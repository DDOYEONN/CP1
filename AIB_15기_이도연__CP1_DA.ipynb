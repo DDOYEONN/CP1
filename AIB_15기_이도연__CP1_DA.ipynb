{
  "nbformat": 4,
  "nbformat_minor": 0,
  "metadata": {
    "colab": {
      "provenance": [],
      "collapsed_sections": [
        "sgUnapVLpo4s",
        "4GRXitIqpFzV"
      ]
    },
    "kernelspec": {
      "name": "python3",
      "display_name": "Python 3"
    },
    "language_info": {
      "name": "python"
    }
  },
  "cells": [
    {
      "cell_type": "markdown",
      "source": [
        "# 파일변환"
      ],
      "metadata": {
        "id": "IvW1a2W4Jcpx"
      }
    },
    {
      "cell_type": "code",
      "source": [
        "df1 = pd.read_csv('1인가구 거처별 종류_분석용 - 시트1_new_비율 - 1인가구 거처별 종류_분석용 - 시트1.csv')\n",
        "df1_16 = df1[df1.columns[1:7]]\n",
        "df1_17 = df1[df1.columns[7:13]]\n",
        "df1_18 = df1[df1.columns[13:19]]\n",
        "df1_19 = df1[df1.columns[19:25]]\n",
        "df1_20 = df1[df1.columns[25:31]]\n",
        "\n",
        "df1_16.columns = df1_16.iloc[0,:]\n",
        "df1_17.columns = df1_17.iloc[0,:]\n",
        "df1_18.columns = df1_18.iloc[0,:]\n",
        "df1_19.columns = df1_19.iloc[0,:]\n",
        "df1_20.columns = df1_20.iloc[0,:]\n",
        "\n",
        "df1_16 = df1_16.drop(0, axis=0)\n",
        "df1_17 = df1_17.drop(0, axis=0)\n",
        "df1_18 = df1_18.drop(0, axis=0)\n",
        "df1_19 = df1_19.drop(0, axis=0)\n",
        "df1_20 = df1_20.drop(0, axis=0)\n",
        "\n",
        "df1_16['연도'] = 2016\n",
        "df1_17['연도'] = 2017\n",
        "df1_18['연도'] = 2018\n",
        "df1_19['연도'] = 2019\n",
        "df1_20['연도'] = 2020\n",
        "\n",
        "col = df1['자치구별'].to_list()[1:] * 5\n",
        "\n",
        "df1 = pd.concat([df1_16,df1_17,df1_18,df1_19,df1_20], axis=0)\n",
        "print(df1)\n",
        "df1['자치구별'] = col\n",
        "\n",
        "df1 = df1.reset_index(drop=True)\n",
        "\n",
        "df11 = df1[['자치구별','연도','주택_단독주택','주택_아파트','주택_연립주택','주택_다세대주택','주택_비거주용건물내 주택','주택이외의 거처_계']]\n",
        "\n",
        "for i,j in enumerate(df11['연도']):\n",
        "    for m,n in enumerate([2016,2017,2018,2019,2020]):\n",
        "        if j == n:\n",
        "            df11.loc[i, '자치구별'] = df11.loc[i, '자치구별'] + f'{m+1}'   \n",
        "\n",
        "df11 = df11.astype({\"연도\" : 'object'}) "
      ],
      "metadata": {
        "id": "akttTUxPJgJN"
      },
      "execution_count": null,
      "outputs": []
    },
    {
      "cell_type": "code",
      "source": [
        "df2 = pd.read_csv('생활쓰레기_쭈민부담률_분석용 - 시트1.csv')\n",
        "df22 = df2[1:]\n",
        "\n",
        "df22 = df22.melt(id_vars= ['자치구별'])\n",
        "df22.columns = ['자치구별', '연도', '생활쓰레기주민부담률']\n",
        "\n",
        "for i,j in enumerate(df22['연도']):\n",
        "    for m,n in enumerate(['2016','2017','2018','2019','2020']):\n",
        "        if j == n:\n",
        "            df22.loc[i, '자치구별'] = df22.loc[i, '자치구별'] + f'{m+1}'\n",
        "            \n",
        "df22"
      ],
      "metadata": {
        "id": "7RtdX-RNJp4B"
      },
      "execution_count": null,
      "outputs": []
    },
    {
      "cell_type": "code",
      "source": [
        "# test파일\n",
        "df3 = pd.read_csv('서울시 생활폐기물 발생량_분석용_예측값 - 서울시 생활폐기물 발생량 및 처리현황_excel.csv')\n",
        "df33 = df3.melt(id_vars = ['자치구별'])\n",
        "df33.columns = ['자치구별', '연도' ,'생활폐기물발생량']\n",
        "\n",
        "for i,j in enumerate(df22['연도']):\n",
        "    for m,n in enumerate(['2016','2017','2018','2019','2020']):\n",
        "        if j == n:\n",
        "            df33.loc[i, '자치구별'] = df33.loc[i, '자치구별'] + f'{m+1}'\n",
        "            \n",
        "df33.to_csv('./test.csv', index=False)"
      ],
      "metadata": {
        "id": "pi3w9U9bJu9f"
      },
      "execution_count": null,
      "outputs": []
    },
    {
      "cell_type": "code",
      "source": [
        "df4 = pd.read_csv('서울시 재활용_음식물 발생량비율_분석용 - 시트1_new_비율 - 서울시 재활용_음식물 발생량비율_분석용 - 시트1.csv')\n",
        "df4_16 = df4[df4.columns[1:3]]\n",
        "df4_17 = df4[df4.columns[3:5]]\n",
        "df4_18 = df4[df4.columns[5:7]]\n",
        "df4_19 = df4[df4.columns[7:9]]\n",
        "df4_20 = df4[df4.columns[9:11]]\n",
        "\n",
        "df4_16.columns = df4_16.iloc[0,:]\n",
        "df4_17.columns = df4_17.iloc[0,:]\n",
        "df4_18.columns = df4_18.iloc[0,:]\n",
        "df4_19.columns = df4_19.iloc[0,:]\n",
        "df4_20.columns = df4_20.iloc[0,:]\n",
        "\n",
        "df4_16 = df4_16.drop(0, axis=0)\n",
        "df4_17 = df4_17.drop(0, axis=0)\n",
        "df4_18 = df4_18.drop(0, axis=0)\n",
        "df4_19 = df4_19.drop(0, axis=0)\n",
        "df4_20 = df4_20.drop(0, axis=0)\n",
        "\n",
        "df4_16['연도'] = 2016\n",
        "df4_17['연도'] = 2017\n",
        "df4_18['연도'] = 2018\n",
        "df4_19['연도'] = 2019\n",
        "df4_20['연도'] = 2020\n",
        "\n",
        "col = df4['구분별(2)'].to_list()[1:] * 5\n",
        "\n",
        "df4 = pd.concat([df4_16,df4_17,df4_18,df4_19,df4_20], axis=0)\n",
        "# print(df4)\n",
        "df4['구분별(2)'] = col\n",
        "\n",
        "df4 = df4.reset_index(drop=True)\n",
        "\n",
        "df44 = df4[['구분별(2)', '연도', '재활용/발생량', '음식물/발생량']]\n",
        "\n",
        "for i,j in enumerate(df44['연도']):\n",
        "    for m,n in enumerate([2016,2017,2018,2019,2020]):\n",
        "        if j == n:\n",
        "            df44.loc[i, '구분별(2)'] = df44.loc[i, '구분별(2)'] + f'{m+1}' \n",
        "df44.columns = ['자치구별', '연도','재활용/발생량', '음식물/발생량']\n",
        "df44  "
      ],
      "metadata": {
        "id": "3iqUb6SrJy1q"
      },
      "execution_count": null,
      "outputs": []
    },
    {
      "cell_type": "code",
      "source": [
        "df6 = pd.read_csv('자치구별 연령대_분석용 _new_비율 - 자치구별 연령대_분석용 - 시트1.csv')\n",
        "\n",
        "df6_16 = df6[df6.columns[1:4]]\n",
        "df6_17 = df6[df6.columns[4:7]]\n",
        "df6_18 = df6[df6.columns[7:10]]\n",
        "df6_19 = df6[df6.columns[10:13]]\n",
        "df6_20 = df6[df6.columns[13:16]]\n",
        "\n",
        "df6_16.columns = df6_16.iloc[0,:]\n",
        "df6_17.columns = df6_17.iloc[0,:]\n",
        "df6_18.columns = df6_18.iloc[0,:]\n",
        "df6_19.columns = df6_19.iloc[0,:]\n",
        "df6_20.columns = df6_20.iloc[0,:]\n",
        "\n",
        "df6_16 = df6_16.drop(0, axis=0)\n",
        "df6_17 = df6_17.drop(0, axis=0)\n",
        "df6_18 = df6_18.drop(0, axis=0)\n",
        "df6_19 = df6_19.drop(0, axis=0)\n",
        "df6_20 = df6_20.drop(0, axis=0)\n",
        "\n",
        "df6_16['연도'] = 2016\n",
        "df6_17['연도'] = 2017\n",
        "df6_18['연도'] = 2018\n",
        "df6_19['연도'] = 2019\n",
        "df6_20['연도'] = 2020\n",
        "\n",
        "col = df6['자치구별'].to_list()[1:] * 5\n",
        "\n",
        "df6 = pd.concat([df6_16,df6_17,df6_18,df6_19,df6_20], axis=0)\n",
        "# print(df6)\n",
        "df6['자치구별'] = col\n",
        "\n",
        "df6 = df6.reset_index(drop=True)\n",
        "\n",
        "df66 = df6[['자치구별', '연도', '청년층', '중장년층', '노년층']]\n",
        "\n",
        "for i,j in enumerate(df66['연도']):\n",
        "    for m,n in enumerate([2016,2017,2018,2019,2020]):\n",
        "        if j == n:\n",
        "            df66.loc[i, '자치구별'] = df66.loc[i, '자치구별'] + f'{m+1}' \n",
        "\n",
        "df66 = df66.astype({\"연도\" : 'object'})"
      ],
      "metadata": {
        "id": "J3bxPzjpJ7fK"
      },
      "execution_count": null,
      "outputs": []
    },
    {
      "cell_type": "code",
      "source": [
        "df = pd.concat([df11, df22, df44, df66], axis = 1)\n",
        "df.to_csv('./project_final_new.csv', index=False)"
      ],
      "metadata": {
        "id": "f5I-cakAKDKx"
      },
      "execution_count": null,
      "outputs": []
    },
    {
      "cell_type": "code",
      "source": [
        "## excel ## 이용"
      ],
      "metadata": {
        "id": "FMD87efDbqIG"
      },
      "execution_count": null,
      "outputs": []
    },
    {
      "cell_type": "markdown",
      "source": [
        "# 라이브러리 모음"
      ],
      "metadata": {
        "id": "jumKvFYctIaL"
      }
    },
    {
      "cell_type": "markdown",
      "source": [
        "----"
      ],
      "metadata": {
        "id": "Qe0RPt5ypCdr"
      }
    },
    {
      "cell_type": "code",
      "source": [
        "# 한글글자깨잠\n",
        "!sudo apt-get install -y fonts-nanum\n",
        "!sudo fc-cache -fv\n",
        "!rm ~/.cache/matplotlib -rf"
      ],
      "metadata": {
        "colab": {
          "base_uri": "https://localhost:8080/"
        },
        "id": "tOL7bQvXyXw1",
        "outputId": "508dd217-3193-4f81-e6a6-8552256e497d"
      },
      "execution_count": 1,
      "outputs": [
        {
          "output_type": "stream",
          "name": "stdout",
          "text": [
            "Reading package lists... Done\n",
            "Building dependency tree       \n",
            "Reading state information... Done\n",
            "The following package was automatically installed and is no longer required:\n",
            "  libnvidia-common-460\n",
            "Use 'sudo apt autoremove' to remove it.\n",
            "The following NEW packages will be installed:\n",
            "  fonts-nanum\n",
            "0 upgraded, 1 newly installed, 0 to remove and 21 not upgraded.\n",
            "Need to get 9,604 kB of archives.\n",
            "After this operation, 29.5 MB of additional disk space will be used.\n",
            "Get:1 http://archive.ubuntu.com/ubuntu bionic/universe amd64 fonts-nanum all 20170925-1 [9,604 kB]\n",
            "Fetched 9,604 kB in 2s (5,966 kB/s)\n",
            "debconf: unable to initialize frontend: Dialog\n",
            "debconf: (No usable dialog-like program is installed, so the dialog based frontend cannot be used. at /usr/share/perl5/Debconf/FrontEnd/Dialog.pm line 76, <> line 1.)\n",
            "debconf: falling back to frontend: Readline\n",
            "debconf: unable to initialize frontend: Readline\n",
            "debconf: (This frontend requires a controlling tty.)\n",
            "debconf: falling back to frontend: Teletype\n",
            "dpkg-preconfigure: unable to re-open stdin: \n",
            "Selecting previously unselected package fonts-nanum.\n",
            "(Reading database ... 124016 files and directories currently installed.)\n",
            "Preparing to unpack .../fonts-nanum_20170925-1_all.deb ...\n",
            "Unpacking fonts-nanum (20170925-1) ...\n",
            "Setting up fonts-nanum (20170925-1) ...\n",
            "Processing triggers for fontconfig (2.12.6-0ubuntu2) ...\n",
            "/usr/share/fonts: caching, new cache contents: 0 fonts, 1 dirs\n",
            "/usr/share/fonts/truetype: caching, new cache contents: 0 fonts, 3 dirs\n",
            "/usr/share/fonts/truetype/humor-sans: caching, new cache contents: 1 fonts, 0 dirs\n",
            "/usr/share/fonts/truetype/liberation: caching, new cache contents: 16 fonts, 0 dirs\n",
            "/usr/share/fonts/truetype/nanum: caching, new cache contents: 10 fonts, 0 dirs\n",
            "/usr/local/share/fonts: caching, new cache contents: 0 fonts, 0 dirs\n",
            "/root/.local/share/fonts: skipping, no such directory\n",
            "/root/.fonts: skipping, no such directory\n",
            "/var/cache/fontconfig: cleaning cache directory\n",
            "/root/.cache/fontconfig: not cleaning non-existent cache directory\n",
            "/root/.fontconfig: not cleaning non-existent cache directory\n",
            "fc-cache: succeeded\n"
          ]
        }
      ]
    },
    {
      "cell_type": "code",
      "source": [
        "import pandas as pd\n",
        "import numpy as np\n",
        "import matplotlib.pyplot as plt\n",
        "import seaborn as sns\n",
        "import matplotlib.pyplot as plt\n",
        "plt.rc('font', family='NanumBarunGothic')"
      ],
      "metadata": {
        "id": "2khG3nkrtQaZ"
      },
      "execution_count": 1,
      "outputs": []
    },
    {
      "cell_type": "code",
      "source": [
        "import matplotlib.font_manager as fm"
      ],
      "metadata": {
        "id": "CZ-ZqGlf1nQm"
      },
      "execution_count": 3,
      "outputs": []
    },
    {
      "cell_type": "code",
      "source": [
        "test = pd.read_csv('/content/test.csv')\n",
        "test.head()"
      ],
      "metadata": {
        "colab": {
          "base_uri": "https://localhost:8080/",
          "height": 206
        },
        "id": "cGh9PGLpfma-",
        "outputId": "bde8ef5c-f54b-4e7e-ef86-8aa3137fc604"
      },
      "execution_count": 4,
      "outputs": [
        {
          "output_type": "execute_result",
          "data": {
            "text/plain": [
              "   자치구별    연도  생활폐기물발생량\n",
              "0  종로구1  2016     227.2\n",
              "1   중구1  2016     312.2\n",
              "2  용산구1  2016     166.9\n",
              "3  성동구1  2016     176.6\n",
              "4  광진구1  2016     240.8"
            ],
            "text/html": [
              "\n",
              "  <div id=\"df-178226de-4f0f-4eb2-aee7-166f16102875\">\n",
              "    <div class=\"colab-df-container\">\n",
              "      <div>\n",
              "<style scoped>\n",
              "    .dataframe tbody tr th:only-of-type {\n",
              "        vertical-align: middle;\n",
              "    }\n",
              "\n",
              "    .dataframe tbody tr th {\n",
              "        vertical-align: top;\n",
              "    }\n",
              "\n",
              "    .dataframe thead th {\n",
              "        text-align: right;\n",
              "    }\n",
              "</style>\n",
              "<table border=\"1\" class=\"dataframe\">\n",
              "  <thead>\n",
              "    <tr style=\"text-align: right;\">\n",
              "      <th></th>\n",
              "      <th>자치구별</th>\n",
              "      <th>연도</th>\n",
              "      <th>생활폐기물발생량</th>\n",
              "    </tr>\n",
              "  </thead>\n",
              "  <tbody>\n",
              "    <tr>\n",
              "      <th>0</th>\n",
              "      <td>종로구1</td>\n",
              "      <td>2016</td>\n",
              "      <td>227.2</td>\n",
              "    </tr>\n",
              "    <tr>\n",
              "      <th>1</th>\n",
              "      <td>중구1</td>\n",
              "      <td>2016</td>\n",
              "      <td>312.2</td>\n",
              "    </tr>\n",
              "    <tr>\n",
              "      <th>2</th>\n",
              "      <td>용산구1</td>\n",
              "      <td>2016</td>\n",
              "      <td>166.9</td>\n",
              "    </tr>\n",
              "    <tr>\n",
              "      <th>3</th>\n",
              "      <td>성동구1</td>\n",
              "      <td>2016</td>\n",
              "      <td>176.6</td>\n",
              "    </tr>\n",
              "    <tr>\n",
              "      <th>4</th>\n",
              "      <td>광진구1</td>\n",
              "      <td>2016</td>\n",
              "      <td>240.8</td>\n",
              "    </tr>\n",
              "  </tbody>\n",
              "</table>\n",
              "</div>\n",
              "      <button class=\"colab-df-convert\" onclick=\"convertToInteractive('df-178226de-4f0f-4eb2-aee7-166f16102875')\"\n",
              "              title=\"Convert this dataframe to an interactive table.\"\n",
              "              style=\"display:none;\">\n",
              "        \n",
              "  <svg xmlns=\"http://www.w3.org/2000/svg\" height=\"24px\"viewBox=\"0 0 24 24\"\n",
              "       width=\"24px\">\n",
              "    <path d=\"M0 0h24v24H0V0z\" fill=\"none\"/>\n",
              "    <path d=\"M18.56 5.44l.94 2.06.94-2.06 2.06-.94-2.06-.94-.94-2.06-.94 2.06-2.06.94zm-11 1L8.5 8.5l.94-2.06 2.06-.94-2.06-.94L8.5 2.5l-.94 2.06-2.06.94zm10 10l.94 2.06.94-2.06 2.06-.94-2.06-.94-.94-2.06-.94 2.06-2.06.94z\"/><path d=\"M17.41 7.96l-1.37-1.37c-.4-.4-.92-.59-1.43-.59-.52 0-1.04.2-1.43.59L10.3 9.45l-7.72 7.72c-.78.78-.78 2.05 0 2.83L4 21.41c.39.39.9.59 1.41.59.51 0 1.02-.2 1.41-.59l7.78-7.78 2.81-2.81c.8-.78.8-2.07 0-2.86zM5.41 20L4 18.59l7.72-7.72 1.47 1.35L5.41 20z\"/>\n",
              "  </svg>\n",
              "      </button>\n",
              "      \n",
              "  <style>\n",
              "    .colab-df-container {\n",
              "      display:flex;\n",
              "      flex-wrap:wrap;\n",
              "      gap: 12px;\n",
              "    }\n",
              "\n",
              "    .colab-df-convert {\n",
              "      background-color: #E8F0FE;\n",
              "      border: none;\n",
              "      border-radius: 50%;\n",
              "      cursor: pointer;\n",
              "      display: none;\n",
              "      fill: #1967D2;\n",
              "      height: 32px;\n",
              "      padding: 0 0 0 0;\n",
              "      width: 32px;\n",
              "    }\n",
              "\n",
              "    .colab-df-convert:hover {\n",
              "      background-color: #E2EBFA;\n",
              "      box-shadow: 0px 1px 2px rgba(60, 64, 67, 0.3), 0px 1px 3px 1px rgba(60, 64, 67, 0.15);\n",
              "      fill: #174EA6;\n",
              "    }\n",
              "\n",
              "    [theme=dark] .colab-df-convert {\n",
              "      background-color: #3B4455;\n",
              "      fill: #D2E3FC;\n",
              "    }\n",
              "\n",
              "    [theme=dark] .colab-df-convert:hover {\n",
              "      background-color: #434B5C;\n",
              "      box-shadow: 0px 1px 3px 1px rgba(0, 0, 0, 0.15);\n",
              "      filter: drop-shadow(0px 1px 2px rgba(0, 0, 0, 0.3));\n",
              "      fill: #FFFFFF;\n",
              "    }\n",
              "  </style>\n",
              "\n",
              "      <script>\n",
              "        const buttonEl =\n",
              "          document.querySelector('#df-178226de-4f0f-4eb2-aee7-166f16102875 button.colab-df-convert');\n",
              "        buttonEl.style.display =\n",
              "          google.colab.kernel.accessAllowed ? 'block' : 'none';\n",
              "\n",
              "        async function convertToInteractive(key) {\n",
              "          const element = document.querySelector('#df-178226de-4f0f-4eb2-aee7-166f16102875');\n",
              "          const dataTable =\n",
              "            await google.colab.kernel.invokeFunction('convertToInteractive',\n",
              "                                                     [key], {});\n",
              "          if (!dataTable) return;\n",
              "\n",
              "          const docLinkHtml = 'Like what you see? Visit the ' +\n",
              "            '<a target=\"_blank\" href=https://colab.research.google.com/notebooks/data_table.ipynb>data table notebook</a>'\n",
              "            + ' to learn more about interactive tables.';\n",
              "          element.innerHTML = '';\n",
              "          dataTable['output_type'] = 'display_data';\n",
              "          await google.colab.output.renderOutput(dataTable, element);\n",
              "          const docLink = document.createElement('div');\n",
              "          docLink.innerHTML = docLinkHtml;\n",
              "          element.appendChild(docLink);\n",
              "        }\n",
              "      </script>\n",
              "    </div>\n",
              "  </div>\n",
              "  "
            ]
          },
          "metadata": {},
          "execution_count": 4
        }
      ]
    },
    {
      "cell_type": "code",
      "source": [
        "train = pd.read_csv('/content/project_final_new - project_final_new.csv')\n",
        "train.head()"
      ],
      "metadata": {
        "colab": {
          "base_uri": "https://localhost:8080/",
          "height": 267
        },
        "id": "CBKMtHzKetqH",
        "outputId": "15621bad-4616-48f9-ceca-ecc86514c5a1"
      },
      "execution_count": 5,
      "outputs": [
        {
          "output_type": "execute_result",
          "data": {
            "text/plain": [
              "   자치구별    연도   주택_단독주택    주택_아파트   주택_연립주택  주택_다세대주택  주택_비거주용건물내 주택  \\\n",
              "0  종로구1  2016  0.498183  0.113335  0.038406  0.145654       0.035165   \n",
              "1   중구1  2016  0.378273  0.278888  0.015708  0.104316       0.037873   \n",
              "2  용산구1  2016  0.524762  0.178155  0.021618  0.148225       0.017983   \n",
              "3  성동구1  2016  0.517964  0.251713  0.006932  0.074877       0.040702   \n",
              "4  광진구1  2016  0.638003  0.065094  0.009686  0.154489       0.042450   \n",
              "\n",
              "   주택이외의 거처_계  생활쓰레기주민부담률  재활용/발생량  음식물/발생량  서울시1인가구수       청년층      중장년층  \\\n",
              "0    0.169258        50.9   0.2938   0.2658   0.02005  0.511909  0.268491   \n",
              "1    0.184942        56.3   0.3728   0.2526   0.01727  0.449391  0.308774   \n",
              "2    0.109257        50.3   0.3422   0.2945   0.02778  0.461501  0.308862   \n",
              "3    0.107811        51.0   0.3445   0.3406   0.03255  0.494672  0.298757   \n",
              "4    0.090278        48.9   0.4235   0.3144   0.04669  0.576793  0.264666   \n",
              "\n",
              "        노년층     1인가구당소득  \n",
              "0  0.219600   486271325  \n",
              "1  0.241835   418893945  \n",
              "2  0.229637   673795095  \n",
              "3  0.206571   789490830  \n",
              "4  0.158541  1132233855  "
            ],
            "text/html": [
              "\n",
              "  <div id=\"df-90bbba00-8382-44c9-b828-898bd854572d\">\n",
              "    <div class=\"colab-df-container\">\n",
              "      <div>\n",
              "<style scoped>\n",
              "    .dataframe tbody tr th:only-of-type {\n",
              "        vertical-align: middle;\n",
              "    }\n",
              "\n",
              "    .dataframe tbody tr th {\n",
              "        vertical-align: top;\n",
              "    }\n",
              "\n",
              "    .dataframe thead th {\n",
              "        text-align: right;\n",
              "    }\n",
              "</style>\n",
              "<table border=\"1\" class=\"dataframe\">\n",
              "  <thead>\n",
              "    <tr style=\"text-align: right;\">\n",
              "      <th></th>\n",
              "      <th>자치구별</th>\n",
              "      <th>연도</th>\n",
              "      <th>주택_단독주택</th>\n",
              "      <th>주택_아파트</th>\n",
              "      <th>주택_연립주택</th>\n",
              "      <th>주택_다세대주택</th>\n",
              "      <th>주택_비거주용건물내 주택</th>\n",
              "      <th>주택이외의 거처_계</th>\n",
              "      <th>생활쓰레기주민부담률</th>\n",
              "      <th>재활용/발생량</th>\n",
              "      <th>음식물/발생량</th>\n",
              "      <th>서울시1인가구수</th>\n",
              "      <th>청년층</th>\n",
              "      <th>중장년층</th>\n",
              "      <th>노년층</th>\n",
              "      <th>1인가구당소득</th>\n",
              "    </tr>\n",
              "  </thead>\n",
              "  <tbody>\n",
              "    <tr>\n",
              "      <th>0</th>\n",
              "      <td>종로구1</td>\n",
              "      <td>2016</td>\n",
              "      <td>0.498183</td>\n",
              "      <td>0.113335</td>\n",
              "      <td>0.038406</td>\n",
              "      <td>0.145654</td>\n",
              "      <td>0.035165</td>\n",
              "      <td>0.169258</td>\n",
              "      <td>50.9</td>\n",
              "      <td>0.2938</td>\n",
              "      <td>0.2658</td>\n",
              "      <td>0.02005</td>\n",
              "      <td>0.511909</td>\n",
              "      <td>0.268491</td>\n",
              "      <td>0.219600</td>\n",
              "      <td>486271325</td>\n",
              "    </tr>\n",
              "    <tr>\n",
              "      <th>1</th>\n",
              "      <td>중구1</td>\n",
              "      <td>2016</td>\n",
              "      <td>0.378273</td>\n",
              "      <td>0.278888</td>\n",
              "      <td>0.015708</td>\n",
              "      <td>0.104316</td>\n",
              "      <td>0.037873</td>\n",
              "      <td>0.184942</td>\n",
              "      <td>56.3</td>\n",
              "      <td>0.3728</td>\n",
              "      <td>0.2526</td>\n",
              "      <td>0.01727</td>\n",
              "      <td>0.449391</td>\n",
              "      <td>0.308774</td>\n",
              "      <td>0.241835</td>\n",
              "      <td>418893945</td>\n",
              "    </tr>\n",
              "    <tr>\n",
              "      <th>2</th>\n",
              "      <td>용산구1</td>\n",
              "      <td>2016</td>\n",
              "      <td>0.524762</td>\n",
              "      <td>0.178155</td>\n",
              "      <td>0.021618</td>\n",
              "      <td>0.148225</td>\n",
              "      <td>0.017983</td>\n",
              "      <td>0.109257</td>\n",
              "      <td>50.3</td>\n",
              "      <td>0.3422</td>\n",
              "      <td>0.2945</td>\n",
              "      <td>0.02778</td>\n",
              "      <td>0.461501</td>\n",
              "      <td>0.308862</td>\n",
              "      <td>0.229637</td>\n",
              "      <td>673795095</td>\n",
              "    </tr>\n",
              "    <tr>\n",
              "      <th>3</th>\n",
              "      <td>성동구1</td>\n",
              "      <td>2016</td>\n",
              "      <td>0.517964</td>\n",
              "      <td>0.251713</td>\n",
              "      <td>0.006932</td>\n",
              "      <td>0.074877</td>\n",
              "      <td>0.040702</td>\n",
              "      <td>0.107811</td>\n",
              "      <td>51.0</td>\n",
              "      <td>0.3445</td>\n",
              "      <td>0.3406</td>\n",
              "      <td>0.03255</td>\n",
              "      <td>0.494672</td>\n",
              "      <td>0.298757</td>\n",
              "      <td>0.206571</td>\n",
              "      <td>789490830</td>\n",
              "    </tr>\n",
              "    <tr>\n",
              "      <th>4</th>\n",
              "      <td>광진구1</td>\n",
              "      <td>2016</td>\n",
              "      <td>0.638003</td>\n",
              "      <td>0.065094</td>\n",
              "      <td>0.009686</td>\n",
              "      <td>0.154489</td>\n",
              "      <td>0.042450</td>\n",
              "      <td>0.090278</td>\n",
              "      <td>48.9</td>\n",
              "      <td>0.4235</td>\n",
              "      <td>0.3144</td>\n",
              "      <td>0.04669</td>\n",
              "      <td>0.576793</td>\n",
              "      <td>0.264666</td>\n",
              "      <td>0.158541</td>\n",
              "      <td>1132233855</td>\n",
              "    </tr>\n",
              "  </tbody>\n",
              "</table>\n",
              "</div>\n",
              "      <button class=\"colab-df-convert\" onclick=\"convertToInteractive('df-90bbba00-8382-44c9-b828-898bd854572d')\"\n",
              "              title=\"Convert this dataframe to an interactive table.\"\n",
              "              style=\"display:none;\">\n",
              "        \n",
              "  <svg xmlns=\"http://www.w3.org/2000/svg\" height=\"24px\"viewBox=\"0 0 24 24\"\n",
              "       width=\"24px\">\n",
              "    <path d=\"M0 0h24v24H0V0z\" fill=\"none\"/>\n",
              "    <path d=\"M18.56 5.44l.94 2.06.94-2.06 2.06-.94-2.06-.94-.94-2.06-.94 2.06-2.06.94zm-11 1L8.5 8.5l.94-2.06 2.06-.94-2.06-.94L8.5 2.5l-.94 2.06-2.06.94zm10 10l.94 2.06.94-2.06 2.06-.94-2.06-.94-.94-2.06-.94 2.06-2.06.94z\"/><path d=\"M17.41 7.96l-1.37-1.37c-.4-.4-.92-.59-1.43-.59-.52 0-1.04.2-1.43.59L10.3 9.45l-7.72 7.72c-.78.78-.78 2.05 0 2.83L4 21.41c.39.39.9.59 1.41.59.51 0 1.02-.2 1.41-.59l7.78-7.78 2.81-2.81c.8-.78.8-2.07 0-2.86zM5.41 20L4 18.59l7.72-7.72 1.47 1.35L5.41 20z\"/>\n",
              "  </svg>\n",
              "      </button>\n",
              "      \n",
              "  <style>\n",
              "    .colab-df-container {\n",
              "      display:flex;\n",
              "      flex-wrap:wrap;\n",
              "      gap: 12px;\n",
              "    }\n",
              "\n",
              "    .colab-df-convert {\n",
              "      background-color: #E8F0FE;\n",
              "      border: none;\n",
              "      border-radius: 50%;\n",
              "      cursor: pointer;\n",
              "      display: none;\n",
              "      fill: #1967D2;\n",
              "      height: 32px;\n",
              "      padding: 0 0 0 0;\n",
              "      width: 32px;\n",
              "    }\n",
              "\n",
              "    .colab-df-convert:hover {\n",
              "      background-color: #E2EBFA;\n",
              "      box-shadow: 0px 1px 2px rgba(60, 64, 67, 0.3), 0px 1px 3px 1px rgba(60, 64, 67, 0.15);\n",
              "      fill: #174EA6;\n",
              "    }\n",
              "\n",
              "    [theme=dark] .colab-df-convert {\n",
              "      background-color: #3B4455;\n",
              "      fill: #D2E3FC;\n",
              "    }\n",
              "\n",
              "    [theme=dark] .colab-df-convert:hover {\n",
              "      background-color: #434B5C;\n",
              "      box-shadow: 0px 1px 3px 1px rgba(0, 0, 0, 0.15);\n",
              "      filter: drop-shadow(0px 1px 2px rgba(0, 0, 0, 0.3));\n",
              "      fill: #FFFFFF;\n",
              "    }\n",
              "  </style>\n",
              "\n",
              "      <script>\n",
              "        const buttonEl =\n",
              "          document.querySelector('#df-90bbba00-8382-44c9-b828-898bd854572d button.colab-df-convert');\n",
              "        buttonEl.style.display =\n",
              "          google.colab.kernel.accessAllowed ? 'block' : 'none';\n",
              "\n",
              "        async function convertToInteractive(key) {\n",
              "          const element = document.querySelector('#df-90bbba00-8382-44c9-b828-898bd854572d');\n",
              "          const dataTable =\n",
              "            await google.colab.kernel.invokeFunction('convertToInteractive',\n",
              "                                                     [key], {});\n",
              "          if (!dataTable) return;\n",
              "\n",
              "          const docLinkHtml = 'Like what you see? Visit the ' +\n",
              "            '<a target=\"_blank\" href=https://colab.research.google.com/notebooks/data_table.ipynb>data table notebook</a>'\n",
              "            + ' to learn more about interactive tables.';\n",
              "          element.innerHTML = '';\n",
              "          dataTable['output_type'] = 'display_data';\n",
              "          await google.colab.output.renderOutput(dataTable, element);\n",
              "          const docLink = document.createElement('div');\n",
              "          docLink.innerHTML = docLinkHtml;\n",
              "          element.appendChild(docLink);\n",
              "        }\n",
              "      </script>\n",
              "    </div>\n",
              "  </div>\n",
              "  "
            ]
          },
          "metadata": {},
          "execution_count": 5
        }
      ]
    },
    {
      "cell_type": "markdown",
      "source": [
        "# 정규화"
      ],
      "metadata": {
        "id": "ec6qYQ3sblfx"
      }
    },
    {
      "cell_type": "markdown",
      "source": [
        "## log변환"
      ],
      "metadata": {
        "id": "SEA-acQEbpz5"
      }
    },
    {
      "cell_type": "code",
      "source": [
        "train_c = train.copy()\n",
        "# 연도와 자치구별은 분석에 영향 없어서 삭제했습니다.\n",
        "train_c = train_c.iloc[:,2:]\n",
        "train_c.drop('서울시1인가구수', inplace = True, axis = 1)"
      ],
      "metadata": {
        "id": "tCHP6Xkvmu_8"
      },
      "execution_count": 6,
      "outputs": []
    },
    {
      "cell_type": "code",
      "source": [
        "log_train = np.log1p(train_c)\n",
        "log_train   "
      ],
      "metadata": {
        "colab": {
          "base_uri": "https://localhost:8080/",
          "height": 423
        },
        "id": "7URhf57InWPq",
        "outputId": "ea1ef8d4-0cb3-4573-fa05-3646b3b7e76a"
      },
      "execution_count": 7,
      "outputs": [
        {
          "output_type": "execute_result",
          "data": {
            "text/plain": [
              "      주택_단독주택    주택_아파트   주택_연립주택  주택_다세대주택  주택_비거주용건물내 주택  주택이외의 거처_계  \\\n",
              "0    0.404253  0.107360  0.037687  0.135975       0.034561    0.156369   \n",
              "1    0.320831  0.245991  0.015586  0.099226       0.037173    0.169694   \n",
              "2    0.421838  0.163950  0.021387  0.138218       0.017823    0.103690   \n",
              "3    0.417370  0.224513  0.006908  0.072206       0.039896    0.102386   \n",
              "4    0.493478  0.063063  0.009639  0.143657       0.041573    0.086433   \n",
              "..        ...       ...       ...       ...            ...         ...   \n",
              "120  0.422419  0.095315  0.009404  0.102276       0.073382    0.166419   \n",
              "121  0.260111  0.241159  0.017774  0.194603       0.031275    0.153299   \n",
              "122  0.245424  0.260739  0.015702  0.181212       0.030164    0.164521   \n",
              "123  0.205937  0.184560  0.011066  0.290602       0.027253    0.176176   \n",
              "124  0.322989  0.211791  0.007544  0.197767       0.027270    0.121301   \n",
              "\n",
              "     생활쓰레기주민부담률   재활용/발생량   음식물/발생량       청년층      중장년층       노년층    1인가구당소득  \n",
              "0      3.949319  0.257584  0.235704  0.413373  0.237828  0.198523  20.002277  \n",
              "1      4.048301  0.316852  0.225221  0.371144  0.269091  0.216590  19.853128  \n",
              "2      3.937691  0.294310  0.258125  0.379464  0.269158  0.206719  20.328437  \n",
              "3      3.951244  0.296022  0.293117  0.401907  0.261407  0.187783  20.486899  \n",
              "4      3.910021  0.353119  0.273380  0.455393  0.234808  0.147162  20.847458  \n",
              "..          ...       ...       ...       ...       ...       ...        ...  \n",
              "120    4.223910  0.441797  0.244514  0.510638  0.170048  0.138269  21.864554  \n",
              "121    3.985273  0.223224  0.241612  0.410467  0.244663  0.194981  20.785808  \n",
              "122    4.058717  0.263364  0.294757  0.425005  0.237990  0.183741  21.237029  \n",
              "123    4.104295  0.459701  0.311887  0.398512  0.243141  0.211188  21.302858  \n",
              "124    3.951244  0.243495  0.199424  0.331854  0.261702  0.267973  20.921260  \n",
              "\n",
              "[125 rows x 13 columns]"
            ],
            "text/html": [
              "\n",
              "  <div id=\"df-912d82a4-641f-4842-8bd7-bdbbb16faf85\">\n",
              "    <div class=\"colab-df-container\">\n",
              "      <div>\n",
              "<style scoped>\n",
              "    .dataframe tbody tr th:only-of-type {\n",
              "        vertical-align: middle;\n",
              "    }\n",
              "\n",
              "    .dataframe tbody tr th {\n",
              "        vertical-align: top;\n",
              "    }\n",
              "\n",
              "    .dataframe thead th {\n",
              "        text-align: right;\n",
              "    }\n",
              "</style>\n",
              "<table border=\"1\" class=\"dataframe\">\n",
              "  <thead>\n",
              "    <tr style=\"text-align: right;\">\n",
              "      <th></th>\n",
              "      <th>주택_단독주택</th>\n",
              "      <th>주택_아파트</th>\n",
              "      <th>주택_연립주택</th>\n",
              "      <th>주택_다세대주택</th>\n",
              "      <th>주택_비거주용건물내 주택</th>\n",
              "      <th>주택이외의 거처_계</th>\n",
              "      <th>생활쓰레기주민부담률</th>\n",
              "      <th>재활용/발생량</th>\n",
              "      <th>음식물/발생량</th>\n",
              "      <th>청년층</th>\n",
              "      <th>중장년층</th>\n",
              "      <th>노년층</th>\n",
              "      <th>1인가구당소득</th>\n",
              "    </tr>\n",
              "  </thead>\n",
              "  <tbody>\n",
              "    <tr>\n",
              "      <th>0</th>\n",
              "      <td>0.404253</td>\n",
              "      <td>0.107360</td>\n",
              "      <td>0.037687</td>\n",
              "      <td>0.135975</td>\n",
              "      <td>0.034561</td>\n",
              "      <td>0.156369</td>\n",
              "      <td>3.949319</td>\n",
              "      <td>0.257584</td>\n",
              "      <td>0.235704</td>\n",
              "      <td>0.413373</td>\n",
              "      <td>0.237828</td>\n",
              "      <td>0.198523</td>\n",
              "      <td>20.002277</td>\n",
              "    </tr>\n",
              "    <tr>\n",
              "      <th>1</th>\n",
              "      <td>0.320831</td>\n",
              "      <td>0.245991</td>\n",
              "      <td>0.015586</td>\n",
              "      <td>0.099226</td>\n",
              "      <td>0.037173</td>\n",
              "      <td>0.169694</td>\n",
              "      <td>4.048301</td>\n",
              "      <td>0.316852</td>\n",
              "      <td>0.225221</td>\n",
              "      <td>0.371144</td>\n",
              "      <td>0.269091</td>\n",
              "      <td>0.216590</td>\n",
              "      <td>19.853128</td>\n",
              "    </tr>\n",
              "    <tr>\n",
              "      <th>2</th>\n",
              "      <td>0.421838</td>\n",
              "      <td>0.163950</td>\n",
              "      <td>0.021387</td>\n",
              "      <td>0.138218</td>\n",
              "      <td>0.017823</td>\n",
              "      <td>0.103690</td>\n",
              "      <td>3.937691</td>\n",
              "      <td>0.294310</td>\n",
              "      <td>0.258125</td>\n",
              "      <td>0.379464</td>\n",
              "      <td>0.269158</td>\n",
              "      <td>0.206719</td>\n",
              "      <td>20.328437</td>\n",
              "    </tr>\n",
              "    <tr>\n",
              "      <th>3</th>\n",
              "      <td>0.417370</td>\n",
              "      <td>0.224513</td>\n",
              "      <td>0.006908</td>\n",
              "      <td>0.072206</td>\n",
              "      <td>0.039896</td>\n",
              "      <td>0.102386</td>\n",
              "      <td>3.951244</td>\n",
              "      <td>0.296022</td>\n",
              "      <td>0.293117</td>\n",
              "      <td>0.401907</td>\n",
              "      <td>0.261407</td>\n",
              "      <td>0.187783</td>\n",
              "      <td>20.486899</td>\n",
              "    </tr>\n",
              "    <tr>\n",
              "      <th>4</th>\n",
              "      <td>0.493478</td>\n",
              "      <td>0.063063</td>\n",
              "      <td>0.009639</td>\n",
              "      <td>0.143657</td>\n",
              "      <td>0.041573</td>\n",
              "      <td>0.086433</td>\n",
              "      <td>3.910021</td>\n",
              "      <td>0.353119</td>\n",
              "      <td>0.273380</td>\n",
              "      <td>0.455393</td>\n",
              "      <td>0.234808</td>\n",
              "      <td>0.147162</td>\n",
              "      <td>20.847458</td>\n",
              "    </tr>\n",
              "    <tr>\n",
              "      <th>...</th>\n",
              "      <td>...</td>\n",
              "      <td>...</td>\n",
              "      <td>...</td>\n",
              "      <td>...</td>\n",
              "      <td>...</td>\n",
              "      <td>...</td>\n",
              "      <td>...</td>\n",
              "      <td>...</td>\n",
              "      <td>...</td>\n",
              "      <td>...</td>\n",
              "      <td>...</td>\n",
              "      <td>...</td>\n",
              "      <td>...</td>\n",
              "    </tr>\n",
              "    <tr>\n",
              "      <th>120</th>\n",
              "      <td>0.422419</td>\n",
              "      <td>0.095315</td>\n",
              "      <td>0.009404</td>\n",
              "      <td>0.102276</td>\n",
              "      <td>0.073382</td>\n",
              "      <td>0.166419</td>\n",
              "      <td>4.223910</td>\n",
              "      <td>0.441797</td>\n",
              "      <td>0.244514</td>\n",
              "      <td>0.510638</td>\n",
              "      <td>0.170048</td>\n",
              "      <td>0.138269</td>\n",
              "      <td>21.864554</td>\n",
              "    </tr>\n",
              "    <tr>\n",
              "      <th>121</th>\n",
              "      <td>0.260111</td>\n",
              "      <td>0.241159</td>\n",
              "      <td>0.017774</td>\n",
              "      <td>0.194603</td>\n",
              "      <td>0.031275</td>\n",
              "      <td>0.153299</td>\n",
              "      <td>3.985273</td>\n",
              "      <td>0.223224</td>\n",
              "      <td>0.241612</td>\n",
              "      <td>0.410467</td>\n",
              "      <td>0.244663</td>\n",
              "      <td>0.194981</td>\n",
              "      <td>20.785808</td>\n",
              "    </tr>\n",
              "    <tr>\n",
              "      <th>122</th>\n",
              "      <td>0.245424</td>\n",
              "      <td>0.260739</td>\n",
              "      <td>0.015702</td>\n",
              "      <td>0.181212</td>\n",
              "      <td>0.030164</td>\n",
              "      <td>0.164521</td>\n",
              "      <td>4.058717</td>\n",
              "      <td>0.263364</td>\n",
              "      <td>0.294757</td>\n",
              "      <td>0.425005</td>\n",
              "      <td>0.237990</td>\n",
              "      <td>0.183741</td>\n",
              "      <td>21.237029</td>\n",
              "    </tr>\n",
              "    <tr>\n",
              "      <th>123</th>\n",
              "      <td>0.205937</td>\n",
              "      <td>0.184560</td>\n",
              "      <td>0.011066</td>\n",
              "      <td>0.290602</td>\n",
              "      <td>0.027253</td>\n",
              "      <td>0.176176</td>\n",
              "      <td>4.104295</td>\n",
              "      <td>0.459701</td>\n",
              "      <td>0.311887</td>\n",
              "      <td>0.398512</td>\n",
              "      <td>0.243141</td>\n",
              "      <td>0.211188</td>\n",
              "      <td>21.302858</td>\n",
              "    </tr>\n",
              "    <tr>\n",
              "      <th>124</th>\n",
              "      <td>0.322989</td>\n",
              "      <td>0.211791</td>\n",
              "      <td>0.007544</td>\n",
              "      <td>0.197767</td>\n",
              "      <td>0.027270</td>\n",
              "      <td>0.121301</td>\n",
              "      <td>3.951244</td>\n",
              "      <td>0.243495</td>\n",
              "      <td>0.199424</td>\n",
              "      <td>0.331854</td>\n",
              "      <td>0.261702</td>\n",
              "      <td>0.267973</td>\n",
              "      <td>20.921260</td>\n",
              "    </tr>\n",
              "  </tbody>\n",
              "</table>\n",
              "<p>125 rows × 13 columns</p>\n",
              "</div>\n",
              "      <button class=\"colab-df-convert\" onclick=\"convertToInteractive('df-912d82a4-641f-4842-8bd7-bdbbb16faf85')\"\n",
              "              title=\"Convert this dataframe to an interactive table.\"\n",
              "              style=\"display:none;\">\n",
              "        \n",
              "  <svg xmlns=\"http://www.w3.org/2000/svg\" height=\"24px\"viewBox=\"0 0 24 24\"\n",
              "       width=\"24px\">\n",
              "    <path d=\"M0 0h24v24H0V0z\" fill=\"none\"/>\n",
              "    <path d=\"M18.56 5.44l.94 2.06.94-2.06 2.06-.94-2.06-.94-.94-2.06-.94 2.06-2.06.94zm-11 1L8.5 8.5l.94-2.06 2.06-.94-2.06-.94L8.5 2.5l-.94 2.06-2.06.94zm10 10l.94 2.06.94-2.06 2.06-.94-2.06-.94-.94-2.06-.94 2.06-2.06.94z\"/><path d=\"M17.41 7.96l-1.37-1.37c-.4-.4-.92-.59-1.43-.59-.52 0-1.04.2-1.43.59L10.3 9.45l-7.72 7.72c-.78.78-.78 2.05 0 2.83L4 21.41c.39.39.9.59 1.41.59.51 0 1.02-.2 1.41-.59l7.78-7.78 2.81-2.81c.8-.78.8-2.07 0-2.86zM5.41 20L4 18.59l7.72-7.72 1.47 1.35L5.41 20z\"/>\n",
              "  </svg>\n",
              "      </button>\n",
              "      \n",
              "  <style>\n",
              "    .colab-df-container {\n",
              "      display:flex;\n",
              "      flex-wrap:wrap;\n",
              "      gap: 12px;\n",
              "    }\n",
              "\n",
              "    .colab-df-convert {\n",
              "      background-color: #E8F0FE;\n",
              "      border: none;\n",
              "      border-radius: 50%;\n",
              "      cursor: pointer;\n",
              "      display: none;\n",
              "      fill: #1967D2;\n",
              "      height: 32px;\n",
              "      padding: 0 0 0 0;\n",
              "      width: 32px;\n",
              "    }\n",
              "\n",
              "    .colab-df-convert:hover {\n",
              "      background-color: #E2EBFA;\n",
              "      box-shadow: 0px 1px 2px rgba(60, 64, 67, 0.3), 0px 1px 3px 1px rgba(60, 64, 67, 0.15);\n",
              "      fill: #174EA6;\n",
              "    }\n",
              "\n",
              "    [theme=dark] .colab-df-convert {\n",
              "      background-color: #3B4455;\n",
              "      fill: #D2E3FC;\n",
              "    }\n",
              "\n",
              "    [theme=dark] .colab-df-convert:hover {\n",
              "      background-color: #434B5C;\n",
              "      box-shadow: 0px 1px 3px 1px rgba(0, 0, 0, 0.15);\n",
              "      filter: drop-shadow(0px 1px 2px rgba(0, 0, 0, 0.3));\n",
              "      fill: #FFFFFF;\n",
              "    }\n",
              "  </style>\n",
              "\n",
              "      <script>\n",
              "        const buttonEl =\n",
              "          document.querySelector('#df-912d82a4-641f-4842-8bd7-bdbbb16faf85 button.colab-df-convert');\n",
              "        buttonEl.style.display =\n",
              "          google.colab.kernel.accessAllowed ? 'block' : 'none';\n",
              "\n",
              "        async function convertToInteractive(key) {\n",
              "          const element = document.querySelector('#df-912d82a4-641f-4842-8bd7-bdbbb16faf85');\n",
              "          const dataTable =\n",
              "            await google.colab.kernel.invokeFunction('convertToInteractive',\n",
              "                                                     [key], {});\n",
              "          if (!dataTable) return;\n",
              "\n",
              "          const docLinkHtml = 'Like what you see? Visit the ' +\n",
              "            '<a target=\"_blank\" href=https://colab.research.google.com/notebooks/data_table.ipynb>data table notebook</a>'\n",
              "            + ' to learn more about interactive tables.';\n",
              "          element.innerHTML = '';\n",
              "          dataTable['output_type'] = 'display_data';\n",
              "          await google.colab.output.renderOutput(dataTable, element);\n",
              "          const docLink = document.createElement('div');\n",
              "          docLink.innerHTML = docLinkHtml;\n",
              "          element.appendChild(docLink);\n",
              "        }\n",
              "      </script>\n",
              "    </div>\n",
              "  </div>\n",
              "  "
            ]
          },
          "metadata": {},
          "execution_count": 7
        }
      ]
    },
    {
      "cell_type": "code",
      "source": [
        "test_c = test.copy()"
      ],
      "metadata": {
        "id": "IlVlPVxqv3p3"
      },
      "execution_count": 8,
      "outputs": []
    },
    {
      "cell_type": "code",
      "source": [
        "test_log = test_c['생활폐기물발생량']\n",
        "log_test = np.log1p(test_log)"
      ],
      "metadata": {
        "id": "C0GgXQr8vghO"
      },
      "execution_count": 9,
      "outputs": []
    },
    {
      "cell_type": "code",
      "source": [
        "log_test"
      ],
      "metadata": {
        "colab": {
          "base_uri": "https://localhost:8080/"
        },
        "id": "ymgKauUCv_db",
        "outputId": "98986629-27de-4c01-8fb0-b0e6e77917f9"
      },
      "execution_count": 10,
      "outputs": [
        {
          "output_type": "execute_result",
          "data": {
            "text/plain": [
              "0      5.430222\n",
              "1      5.746842\n",
              "2      5.123369\n",
              "3      5.179534\n",
              "4      5.488111\n",
              "         ...   \n",
              "120    5.648270\n",
              "121    5.701780\n",
              "122    6.123589\n",
              "123    6.295266\n",
              "124    5.518657\n",
              "Name: 생활폐기물발생량, Length: 125, dtype: float64"
            ]
          },
          "metadata": {},
          "execution_count": 10
        }
      ]
    },
    {
      "cell_type": "markdown",
      "source": [
        "# 상관분석\n"
      ],
      "metadata": {
        "id": "J0BPkoUNvDVi"
      }
    },
    {
      "cell_type": "code",
      "source": [
        "%matplotlib inline\n",
        "plt.figure(figsize = (15,15))\n",
        "# %plt.rcParams['axes.unicode_minus'] = False\n",
        "\n",
        "# 모든 조합, 상관계수 표현\n",
        "sns.heatmap(log_train.corr(), vmin = -1, vmax = +1, annot = True, cmap = 'YlGn');"
      ],
      "metadata": {
        "colab": {
          "base_uri": "https://localhost:8080/",
          "height": 1000
        },
        "id": "5f_-luCVvImA",
        "outputId": "c306cb87-d5a3-472b-dd87-40bd58904702"
      },
      "execution_count": 22,
      "outputs": [
        {
          "output_type": "stream",
          "name": "stderr",
          "text": [
            "/usr/local/lib/python3.8/dist-packages/matplotlib/backends/backend_agg.py:214: RuntimeWarning: Glyph 8722 missing from current font.\n",
            "  font.set_text(s, 0.0, flags=flags)\n",
            "/usr/local/lib/python3.8/dist-packages/matplotlib/backends/backend_agg.py:183: RuntimeWarning: Glyph 8722 missing from current font.\n",
            "  font.set_text(s, 0, flags=flags)\n"
          ]
        },
        {
          "output_type": "display_data",
          "data": {
            "text/plain": [
              "<Figure size 1080x1080 with 2 Axes>"
            ],
            "image/png": "[encoded data removed]"
          },
          "metadata": {
            "needs_background": "light"
          }
        }
      ]
    },
    {
      "cell_type": "markdown",
      "source": [
        "# train test 분리하기\n"
      ],
      "metadata": {
        "id": "QswqdI8skjoa"
      }
    },
    {
      "cell_type": "code",
      "source": [
        "from sklearn.model_selection import train_test_split\n",
        "x_train, x_test, y_train, y_test = train_test_split(log_train, log_test, train_size = 0.8, test_size = 0.2)"
      ],
      "metadata": {
        "id": "Pkqj-R8UvK2q"
      },
      "execution_count": 12,
      "outputs": []
    },
    {
      "cell_type": "code",
      "source": [
        "# 인덱스 정렬해주기\n",
        "x_train = x_train.sort_index()\n",
        "x_test = x_test.sort_index()\n",
        "y_train = y_train.sort_index()\n",
        "y_test = y_test.sort_index()"
      ],
      "metadata": {
        "id": "NuwfYIxevZ44"
      },
      "execution_count": 13,
      "outputs": []
    },
    {
      "cell_type": "code",
      "source": [
        "print(f'x_train: {x_train.shape}, y_train: {y_train.shape}')\n",
        "# print(f'x_val: {x_val.shape}, y_val: {y_val.shape}')\n",
        "print(f'x_test: {x_test.shape}, y_test: {y_test.shape}')"
      ],
      "metadata": {
        "colab": {
          "base_uri": "https://localhost:8080/"
        },
        "id": "kdkCKWMygK8y",
        "outputId": "22718741-8aad-43bb-b4c1-0c9e7265878b"
      },
      "execution_count": 14,
      "outputs": [
        {
          "output_type": "stream",
          "name": "stdout",
          "text": [
            "x_train: (100, 13), y_train: (100,)\n",
            "x_test: (25, 13), y_test: (25,)\n"
          ]
        }
      ]
    },
    {
      "cell_type": "markdown",
      "source": [
        "## 기준모델 만들기\n"
      ],
      "metadata": {
        "id": "dkUP_i1Thnz9"
      }
    },
    {
      "cell_type": "markdown",
      "source": [
        "- 기준모델 \n",
        "    - 회귀 문제일 경우 타겟의 평균값 or 중앙값\n",
        "    - 회귀 : target의 평균값 : 평가지표 MSE\n",
        "- 평가지표\n",
        "    - mse, rmse, mae :0에 가까우면 좋음\n",
        "    - r2 : 1에 가까우면 좋음\n",
        "        - 기준모델에서(평균으로 만든)는 0에 가깝게 나오는 것이 정상임"
      ],
      "metadata": {
        "id": "Y5xTEXcajbMO"
      }
    },
    {
      "cell_type": "code",
      "source": [
        "from sklearn.metrics import mean_squared_error, mean_absolute_error, r2_score\n",
        "# flat_format에서 실수를 출력하는 함수설정\n",
        "# 실수 x를 받아 소수점 둘째자리까지만 표현함\n",
        "pd.options.display.float_format = lambda x : f'{x:.2f}'"
      ],
      "metadata": {
        "id": "iMxH0uV1hr8T"
      },
      "execution_count": 15,
      "outputs": []
    },
    {
      "cell_type": "code",
      "source": [
        "def eval_models(y_true, y_pred):\n",
        "    mse = mean_squared_error(y_true, y_pred).round(3)\n",
        "    rmse = np.sqrt(mse).round(3)\n",
        "    mae = mean_absolute_error(y_true, y_pred).round(3)\n",
        "    r2 = r2_score(y_true, y_pred)\n",
        "\n",
        "    return mse, rmse, mae, r2"
      ],
      "metadata": {
        "id": "BG_MzebUj4tB"
      },
      "execution_count": 16,
      "outputs": []
    },
    {
      "cell_type": "code",
      "source": [
        "baseline = [log_test.mean()] * len(log_test)\n",
        "eval_models(baseline, log_test)"
      ],
      "metadata": {
        "colab": {
          "base_uri": "https://localhost:8080/"
        },
        "id": "6Ir4W5XajpQZ",
        "outputId": "f78f1adc-4992-409b-ec94-df16f386b81d"
      },
      "execution_count": 17,
      "outputs": [
        {
          "output_type": "execute_result",
          "data": {
            "text/plain": [
              "(0.112, 0.335, 0.273, 0.0)"
            ]
          },
          "metadata": {},
          "execution_count": 17
        }
      ]
    },
    {
      "cell_type": "markdown",
      "source": [
        "# RandomForestRegressor\n"
      ],
      "metadata": {
        "id": "1S5SiRvugdOE"
      }
    },
    {
      "cell_type": "code",
      "source": [
        "from sklearn.ensemble import RandomForestRegressor"
      ],
      "metadata": {
        "id": "JrfT2qOLQdol"
      },
      "execution_count": 131,
      "outputs": []
    },
    {
      "cell_type": "code",
      "source": [
        "rf = RandomForestRegressor(n_estimators=300, max_depth=12, min_samples_leaf=5,\n",
        "                           min_samples_split=5, random_state=0)\n",
        "rf.fit(x_train, y_train)\n",
        "y_pred = rf.predict(x_test)\n",
        "\n",
        "eval_models(y_test, y_pred)"
      ],
      "metadata": {
        "colab": {
          "base_uri": "https://localhost:8080/"
        },
        "id": "Pfv244WkjpMm",
        "outputId": "f24291c1-ab8d-409f-b420-29c8f6678c40"
      },
      "execution_count": 132,
      "outputs": [
        {
          "output_type": "execute_result",
          "data": {
            "text/plain": [
              "(0.091, 0.302, 0.246, 0.4472763724128317)"
            ]
          },
          "metadata": {},
          "execution_count": 132
        }
      ]
    },
    {
      "cell_type": "code",
      "source": [
        "import eli5\n",
        "from eli5.sklearn import PermutationImportance\n",
        "from sklearn import metrics\n",
        "perm = PermutationImportance(rf, random_state = 1).fit(x_test, y_test)\n",
        "eli5.show_weights(perm, feature_names = x_test.columns.tolist())\n",
        "# feature_importance 0~1 사이로 나와야 함."
      ],
      "metadata": {
        "id": "HMkUBSL0SJGP"
      },
      "execution_count": null,
      "outputs": []
    },
    {
      "cell_type": "markdown",
      "source": [
        "# XGBoost Regressor"
      ],
      "metadata": {
        "id": "pBqOH7XcCDAE"
      }
    },
    {
      "cell_type": "markdown",
      "source": [
        "- 예측력이 좋음\n",
        "- 특징\n",
        "    - 약한 분류기를 묶어서 정확도를 예측함\n",
        "    - Greedy-algorithm을 사용한 자동 가지치기가 가능해서 과적합이 잘 발생하지 않는다."
      ],
      "metadata": {
        "id": "G5rnkntgLUjU"
      }
    },
    {
      "cell_type": "code",
      "source": [
        "import xgboost\n",
        "xgb_model = xgboost.XGBRegressor(n_estimators=200, learning_rate=0.15, gamma=0.07, subsample=0.74,\n",
        "                           colsample_bytree=1, max_depth=5)"
      ],
      "metadata": {
        "id": "ZFAvDc1fEOCG"
      },
      "execution_count": 140,
      "outputs": []
    },
    {
      "cell_type": "code",
      "source": [
        "xgb_model.fit(x_train,y_train)\n",
        "y_pred = xgb_model.predict(x_test)\n",
        "eval_models(y_test, y_pred)"
      ],
      "metadata": {
        "colab": {
          "base_uri": "https://localhost:8080/"
        },
        "id": "ev5i8oePGZnC",
        "outputId": "1af37672-4c5f-470c-bd9b-c27c8846b13f"
      },
      "execution_count": 141,
      "outputs": [
        {
          "output_type": "stream",
          "name": "stdout",
          "text": [
            "[04:48:58] WARNING: /workspace/src/objective/regression_obj.cu:152: reg:linear is now deprecated in favor of reg:squarederror.\n"
          ]
        },
        {
          "output_type": "execute_result",
          "data": {
            "text/plain": [
              "(0.065, 0.255, 0.209, 0.6025499140610125)"
            ]
          },
          "metadata": {},
          "execution_count": 141
        }
      ]
    },
    {
      "cell_type": "code",
      "source": [
        "import eli5\n",
        "from eli5.sklearn import PermutationImportance\n",
        "from sklearn import metrics\n",
        "perm = PermutationImportance(xgb_model, random_state = 1).fit(x_test, y_test)\n",
        "eli5.show_weights(perm, feature_names = x_test.columns.tolist())\n",
        "# feature_importance 0~1 사이로 나와야 함."
      ],
      "metadata": {
        "colab": {
          "base_uri": "https://localhost:8080/",
          "height": 260
        },
        "id": "2h5mrCcwSElz",
        "outputId": "ee55fb3b-f9bd-4256-8c17-75ea7515ca10"
      },
      "execution_count": 142,
      "outputs": [
        {
          "output_type": "execute_result",
          "data": {
            "text/plain": [
              "<IPython.core.display.HTML object>"
            ],
            "text/html": [
              "\n",
              "    <style>\n",
              "    table.eli5-weights tr:hover {\n",
              "        filter: brightness(85%);\n",
              "    }\n",
              "</style>\n",
              "\n",
              "\n",
              "\n",
              "    \n",
              "\n",
              "    \n",
              "\n",
              "    \n",
              "\n",
              "    \n",
              "\n",
              "    \n",
              "\n",
              "    \n",
              "\n",
              "\n",
              "    \n",
              "\n",
              "    \n",
              "\n",
              "    \n",
              "\n",
              "    \n",
              "\n",
              "    \n",
              "\n",
              "    \n",
              "\n",
              "\n",
              "    \n",
              "\n",
              "    \n",
              "\n",
              "    \n",
              "\n",
              "    \n",
              "\n",
              "    \n",
              "        <table class=\"eli5-weights eli5-feature-importances\" style=\"border-collapse: collapse; border: none; margin-top: 0em; table-layout: auto;\">\n",
              "    <thead>\n",
              "    <tr style=\"border: none;\">\n",
              "        <th style=\"padding: 0 1em 0 0.5em; text-align: right; border: none;\">Weight</th>\n",
              "        <th style=\"padding: 0 0.5em 0 0.5em; text-align: left; border: none;\">Feature</th>\n",
              "    </tr>\n",
              "    </thead>\n",
              "    <tbody>\n",
              "    \n",
              "        <tr style=\"background-color: hsl(120, 100.00%, 80.00%); border: none;\">\n",
              "            <td style=\"padding: 0 1em 0 0.5em; text-align: right; border: none;\">\n",
              "                0.2982\n",
              "                \n",
              "                    &plusmn; 0.0604\n",
              "                \n",
              "            </td>\n",
              "            <td style=\"padding: 0 0.5em 0 0.5em; text-align: left; border: none;\">\n",
              "                주택_연립주택\n",
              "            </td>\n",
              "        </tr>\n",
              "    \n",
              "        <tr style=\"background-color: hsl(120, 100.00%, 84.37%); border: none;\">\n",
              "            <td style=\"padding: 0 1em 0 0.5em; text-align: right; border: none;\">\n",
              "                0.2097\n",
              "                \n",
              "                    &plusmn; 0.1411\n",
              "                \n",
              "            </td>\n",
              "            <td style=\"padding: 0 0.5em 0 0.5em; text-align: left; border: none;\">\n",
              "                주택_단독주택\n",
              "            </td>\n",
              "        </tr>\n",
              "    \n",
              "        <tr style=\"background-color: hsl(120, 100.00%, 90.40%); border: none;\">\n",
              "            <td style=\"padding: 0 1em 0 0.5em; text-align: right; border: none;\">\n",
              "                0.1045\n",
              "                \n",
              "                    &plusmn; 0.0535\n",
              "                \n",
              "            </td>\n",
              "            <td style=\"padding: 0 0.5em 0 0.5em; text-align: left; border: none;\">\n",
              "                음식물/발생량\n",
              "            </td>\n",
              "        </tr>\n",
              "    \n",
              "        <tr style=\"background-color: hsl(120, 100.00%, 91.67%); border: none;\">\n",
              "            <td style=\"padding: 0 1em 0 0.5em; text-align: right; border: none;\">\n",
              "                0.0853\n",
              "                \n",
              "                    &plusmn; 0.0676\n",
              "                \n",
              "            </td>\n",
              "            <td style=\"padding: 0 0.5em 0 0.5em; text-align: left; border: none;\">\n",
              "                주택_비거주용건물내 주택\n",
              "            </td>\n",
              "        </tr>\n",
              "    \n",
              "        <tr style=\"background-color: hsl(120, 100.00%, 94.82%); border: none;\">\n",
              "            <td style=\"padding: 0 1em 0 0.5em; text-align: right; border: none;\">\n",
              "                0.0433\n",
              "                \n",
              "                    &plusmn; 0.0143\n",
              "                \n",
              "            </td>\n",
              "            <td style=\"padding: 0 0.5em 0 0.5em; text-align: left; border: none;\">\n",
              "                주택이외의 거처_계\n",
              "            </td>\n",
              "        </tr>\n",
              "    \n",
              "        <tr style=\"background-color: hsl(120, 100.00%, 95.59%); border: none;\">\n",
              "            <td style=\"padding: 0 1em 0 0.5em; text-align: right; border: none;\">\n",
              "                0.0344\n",
              "                \n",
              "                    &plusmn; 0.0604\n",
              "                \n",
              "            </td>\n",
              "            <td style=\"padding: 0 0.5em 0 0.5em; text-align: left; border: none;\">\n",
              "                재활용/발생량\n",
              "            </td>\n",
              "        </tr>\n",
              "    \n",
              "        <tr style=\"background-color: hsl(120, 100.00%, 96.57%); border: none;\">\n",
              "            <td style=\"padding: 0 1em 0 0.5em; text-align: right; border: none;\">\n",
              "                0.0241\n",
              "                \n",
              "                    &plusmn; 0.0406\n",
              "                \n",
              "            </td>\n",
              "            <td style=\"padding: 0 0.5em 0 0.5em; text-align: left; border: none;\">\n",
              "                주택_아파트\n",
              "            </td>\n",
              "        </tr>\n",
              "    \n",
              "        <tr style=\"background-color: hsl(120, 100.00%, 97.49%); border: none;\">\n",
              "            <td style=\"padding: 0 1em 0 0.5em; text-align: right; border: none;\">\n",
              "                0.0154\n",
              "                \n",
              "                    &plusmn; 0.0194\n",
              "                \n",
              "            </td>\n",
              "            <td style=\"padding: 0 0.5em 0 0.5em; text-align: left; border: none;\">\n",
              "                청년층\n",
              "            </td>\n",
              "        </tr>\n",
              "    \n",
              "        <tr style=\"background-color: hsl(120, 100.00%, 97.55%); border: none;\">\n",
              "            <td style=\"padding: 0 1em 0 0.5em; text-align: right; border: none;\">\n",
              "                0.0148\n",
              "                \n",
              "                    &plusmn; 0.0339\n",
              "                \n",
              "            </td>\n",
              "            <td style=\"padding: 0 0.5em 0 0.5em; text-align: left; border: none;\">\n",
              "                주택_다세대주택\n",
              "            </td>\n",
              "        </tr>\n",
              "    \n",
              "        <tr style=\"background-color: hsl(120, 100.00%, 98.72%); border: none;\">\n",
              "            <td style=\"padding: 0 1em 0 0.5em; text-align: right; border: none;\">\n",
              "                0.0059\n",
              "                \n",
              "                    &plusmn; 0.0165\n",
              "                \n",
              "            </td>\n",
              "            <td style=\"padding: 0 0.5em 0 0.5em; text-align: left; border: none;\">\n",
              "                노년층\n",
              "            </td>\n",
              "        </tr>\n",
              "    \n",
              "        <tr style=\"background-color: hsl(0, 100.00%, 98.88%); border: none;\">\n",
              "            <td style=\"padding: 0 1em 0 0.5em; text-align: right; border: none;\">\n",
              "                -0.0049\n",
              "                \n",
              "                    &plusmn; 0.0166\n",
              "                \n",
              "            </td>\n",
              "            <td style=\"padding: 0 0.5em 0 0.5em; text-align: left; border: none;\">\n",
              "                생활쓰레기주민부담률\n",
              "            </td>\n",
              "        </tr>\n",
              "    \n",
              "        <tr style=\"background-color: hsl(0, 100.00%, 98.34%); border: none;\">\n",
              "            <td style=\"padding: 0 1em 0 0.5em; text-align: right; border: none;\">\n",
              "                -0.0085\n",
              "                \n",
              "                    &plusmn; 0.0217\n",
              "                \n",
              "            </td>\n",
              "            <td style=\"padding: 0 0.5em 0 0.5em; text-align: left; border: none;\">\n",
              "                중장년층\n",
              "            </td>\n",
              "        </tr>\n",
              "    \n",
              "        <tr style=\"background-color: hsl(0, 100.00%, 97.61%); border: none;\">\n",
              "            <td style=\"padding: 0 1em 0 0.5em; text-align: right; border: none;\">\n",
              "                -0.0144\n",
              "                \n",
              "                    &plusmn; 0.0174\n",
              "                \n",
              "            </td>\n",
              "            <td style=\"padding: 0 0.5em 0 0.5em; text-align: left; border: none;\">\n",
              "                1인가구당소득\n",
              "            </td>\n",
              "        </tr>\n",
              "    \n",
              "    \n",
              "    </tbody>\n",
              "</table>\n",
              "    \n",
              "\n",
              "    \n",
              "\n",
              "\n",
              "    \n",
              "\n",
              "    \n",
              "\n",
              "    \n",
              "\n",
              "    \n",
              "\n",
              "    \n",
              "\n",
              "    \n",
              "\n",
              "\n",
              "\n"
            ]
          },
          "metadata": {},
          "execution_count": 142
        }
      ]
    },
    {
      "cell_type": "markdown",
      "source": [
        "# lgbm"
      ],
      "metadata": {
        "id": "GvomVJB7GSMB"
      }
    },
    {
      "cell_type": "code",
      "source": [
        "import lightgbm as lgb\n",
        "train_ds = lgb.Dataset(x_train, label = y_train) \n",
        "test_ds = lgb.Dataset(x_test, label = y_test) "
      ],
      "metadata": {
        "id": "xGE9Dhn1FPrA"
      },
      "execution_count": 135,
      "outputs": []
    },
    {
      "cell_type": "code",
      "source": [
        "params = {'learning_rate': 0.01, \n",
        "          'max_depth': 10, \n",
        "          'boosting': 'gbdt', \n",
        "          'objective': 'regression', \n",
        "          'metric': 'mse', \n",
        "          'is_training_metric': True, \n",
        "          'num_leaves': 100, \n",
        "          'feature_fraction': 0.9, \n",
        "          'bagging_fraction': 0.9, \n",
        "          'bagging_freq': 30, \n",
        "          'seed':2018}"
      ],
      "metadata": {
        "id": "OohctjKcO5FW"
      },
      "execution_count": 136,
      "outputs": []
    },
    {
      "cell_type": "code",
      "source": [
        "lgb_model = lgb.train(params, train_ds, 1000, test_ds, verbose_eval=100, early_stopping_rounds=100)"
      ],
      "metadata": {
        "colab": {
          "base_uri": "https://localhost:8080/"
        },
        "id": "ShUjwjKYOHvN",
        "outputId": "a8db3d33-e421-4025-e7e7-9becd8584eaa"
      },
      "execution_count": 137,
      "outputs": [
        {
          "output_type": "stream",
          "name": "stdout",
          "text": [
            "Training until validation scores don't improve for 100 rounds.\n",
            "[100]\tvalid_0's l2: 0.120773\n",
            "[200]\tvalid_0's l2: 0.103611\n",
            "[300]\tvalid_0's l2: 0.0914981\n",
            "[400]\tvalid_0's l2: 0.0852956\n",
            "[500]\tvalid_0's l2: 0.0794849\n",
            "[600]\tvalid_0's l2: 0.0783208\n",
            "[700]\tvalid_0's l2: 0.0724696\n",
            "Early stopping, best iteration is:\n",
            "[690]\tvalid_0's l2: 0.072272\n"
          ]
        }
      ]
    },
    {
      "cell_type": "code",
      "source": [
        "predict_train = lgb_model.predict(x_train)\n",
        "predict_test = lgb_model.predict(x_test)"
      ],
      "metadata": {
        "id": "lI6zNKuMOKF5"
      },
      "execution_count": 138,
      "outputs": []
    },
    {
      "cell_type": "code",
      "source": [
        "mse = mean_squared_error(y_test, predict_test)\n",
        "r2 = r2_score(y_test, predict_test)"
      ],
      "metadata": {
        "id": "PvWfg4SuORRj"
      },
      "execution_count": 120,
      "outputs": []
    },
    {
      "cell_type": "code",
      "source": [
        "print('Mean squared error: ', mse)\n",
        "print('R2 score: ', r2)"
      ],
      "metadata": {
        "colab": {
          "base_uri": "https://localhost:8080/"
        },
        "id": "SXn4dsJzOxe_",
        "outputId": "bde8e66e-530b-4b74-9a43-5378a20ecd4f"
      },
      "execution_count": 121,
      "outputs": [
        {
          "output_type": "stream",
          "name": "stdout",
          "text": [
            "Mean squared error:  0.07227195065919603\n",
            "R2 score:  0.5606149168917578\n"
          ]
        }
      ]
    },
    {
      "cell_type": "code",
      "source": [
        "eval_models(y_test, predict_test)"
      ],
      "metadata": {
        "colab": {
          "base_uri": "https://localhost:8080/"
        },
        "id": "h2Z_08HxS8HP",
        "outputId": "5a342e80-17af-4897-86f5-90f29649ff3a"
      },
      "execution_count": 139,
      "outputs": [
        {
          "output_type": "execute_result",
          "data": {
            "text/plain": [
              "(0.072, 0.268, 0.222, 0.5606149168917578)"
            ]
          },
          "metadata": {},
          "execution_count": 139
        }
      ]
    },
    {
      "cell_type": "code",
      "source": [
        "import eli5\n",
        "from eli5.sklearn import PermutationImportance\n",
        "from sklearn import metrics\n",
        "perm = PermutationImportance(lgb_model, random_state = 1).fit(x_test, y_test)\n",
        "eli5.show_weights(perm, feature_names = x_test.columns.tolist())\n",
        "# feature_importance 0~1 사이로 나와야 함."
      ],
      "metadata": {
        "colab": {
          "base_uri": "https://localhost:8080/",
          "height": 260
        },
        "id": "jc8uuDLNg8XL",
        "outputId": "26d21fa5-e51d-4189-b47e-688a0b4513ab"
      },
      "execution_count": 122,
      "outputs": [
        {
          "output_type": "execute_result",
          "data": {
            "text/plain": [
              "<IPython.core.display.HTML object>"
            ],
            "text/html": [
              "\n",
              "    <style>\n",
              "    table.eli5-weights tr:hover {\n",
              "        filter: brightness(85%);\n",
              "    }\n",
              "</style>\n",
              "\n",
              "\n",
              "\n",
              "    \n",
              "\n",
              "    \n",
              "\n",
              "    \n",
              "\n",
              "    \n",
              "\n",
              "    \n",
              "\n",
              "    \n",
              "\n",
              "\n",
              "    \n",
              "\n",
              "    \n",
              "\n",
              "    \n",
              "\n",
              "    \n",
              "\n",
              "    \n",
              "\n",
              "    \n",
              "\n",
              "\n",
              "    \n",
              "\n",
              "    \n",
              "\n",
              "    \n",
              "\n",
              "    \n",
              "\n",
              "    \n",
              "        <table class=\"eli5-weights eli5-feature-importances\" style=\"border-collapse: collapse; border: none; margin-top: 0em; table-layout: auto;\">\n",
              "    <thead>\n",
              "    <tr style=\"border: none;\">\n",
              "        <th style=\"padding: 0 1em 0 0.5em; text-align: right; border: none;\">Weight</th>\n",
              "        <th style=\"padding: 0 0.5em 0 0.5em; text-align: left; border: none;\">Feature</th>\n",
              "    </tr>\n",
              "    </thead>\n",
              "    <tbody>\n",
              "    \n",
              "        <tr style=\"background-color: hsl(120, 100.00%, 80.00%); border: none;\">\n",
              "            <td style=\"padding: 0 1em 0 0.5em; text-align: right; border: none;\">\n",
              "                0.3367\n",
              "                \n",
              "                    &plusmn; 0.0726\n",
              "                \n",
              "            </td>\n",
              "            <td style=\"padding: 0 0.5em 0 0.5em; text-align: left; border: none;\">\n",
              "                주택_연립주택\n",
              "            </td>\n",
              "        </tr>\n",
              "    \n",
              "        <tr style=\"background-color: hsl(120, 100.00%, 88.84%); border: none;\">\n",
              "            <td style=\"padding: 0 1em 0 0.5em; text-align: right; border: none;\">\n",
              "                0.1462\n",
              "                \n",
              "                    &plusmn; 0.0844\n",
              "                \n",
              "            </td>\n",
              "            <td style=\"padding: 0 0.5em 0 0.5em; text-align: left; border: none;\">\n",
              "                주택_단독주택\n",
              "            </td>\n",
              "        </tr>\n",
              "    \n",
              "        <tr style=\"background-color: hsl(120, 100.00%, 93.96%); border: none;\">\n",
              "            <td style=\"padding: 0 1em 0 0.5em; text-align: right; border: none;\">\n",
              "                0.0609\n",
              "                \n",
              "                    &plusmn; 0.0595\n",
              "                \n",
              "            </td>\n",
              "            <td style=\"padding: 0 0.5em 0 0.5em; text-align: left; border: none;\">\n",
              "                주택_비거주용건물내 주택\n",
              "            </td>\n",
              "        </tr>\n",
              "    \n",
              "        <tr style=\"background-color: hsl(120, 100.00%, 95.07%); border: none;\">\n",
              "            <td style=\"padding: 0 1em 0 0.5em; text-align: right; border: none;\">\n",
              "                0.0455\n",
              "                \n",
              "                    &plusmn; 0.0377\n",
              "                \n",
              "            </td>\n",
              "            <td style=\"padding: 0 0.5em 0 0.5em; text-align: left; border: none;\">\n",
              "                음식물/발생량\n",
              "            </td>\n",
              "        </tr>\n",
              "    \n",
              "        <tr style=\"background-color: hsl(120, 100.00%, 97.59%); border: none;\">\n",
              "            <td style=\"padding: 0 1em 0 0.5em; text-align: right; border: none;\">\n",
              "                0.0164\n",
              "                \n",
              "                    &plusmn; 0.0087\n",
              "                \n",
              "            </td>\n",
              "            <td style=\"padding: 0 0.5em 0 0.5em; text-align: left; border: none;\">\n",
              "                주택_아파트\n",
              "            </td>\n",
              "        </tr>\n",
              "    \n",
              "        <tr style=\"background-color: hsl(120, 100.00%, 97.61%); border: none;\">\n",
              "            <td style=\"padding: 0 1em 0 0.5em; text-align: right; border: none;\">\n",
              "                0.0162\n",
              "                \n",
              "                    &plusmn; 0.0093\n",
              "                \n",
              "            </td>\n",
              "            <td style=\"padding: 0 0.5em 0 0.5em; text-align: left; border: none;\">\n",
              "                1인가구당소득\n",
              "            </td>\n",
              "        </tr>\n",
              "    \n",
              "        <tr style=\"background-color: hsl(120, 100.00%, 98.38%); border: none;\">\n",
              "            <td style=\"padding: 0 1em 0 0.5em; text-align: right; border: none;\">\n",
              "                0.0093\n",
              "                \n",
              "                    &plusmn; 0.0130\n",
              "                \n",
              "            </td>\n",
              "            <td style=\"padding: 0 0.5em 0 0.5em; text-align: left; border: none;\">\n",
              "                주택_다세대주택\n",
              "            </td>\n",
              "        </tr>\n",
              "    \n",
              "        <tr style=\"background-color: hsl(120, 100.00%, 98.46%); border: none;\">\n",
              "            <td style=\"padding: 0 1em 0 0.5em; text-align: right; border: none;\">\n",
              "                0.0086\n",
              "                \n",
              "                    &plusmn; 0.0471\n",
              "                \n",
              "            </td>\n",
              "            <td style=\"padding: 0 0.5em 0 0.5em; text-align: left; border: none;\">\n",
              "                주택이외의 거처_계\n",
              "            </td>\n",
              "        </tr>\n",
              "    \n",
              "        <tr style=\"background-color: hsl(120, 100.00%, 98.51%); border: none;\">\n",
              "            <td style=\"padding: 0 1em 0 0.5em; text-align: right; border: none;\">\n",
              "                0.0083\n",
              "                \n",
              "                    &plusmn; 0.0077\n",
              "                \n",
              "            </td>\n",
              "            <td style=\"padding: 0 0.5em 0 0.5em; text-align: left; border: none;\">\n",
              "                노년층\n",
              "            </td>\n",
              "        </tr>\n",
              "    \n",
              "        <tr style=\"background-color: hsl(120, 100.00%, 99.36%); border: none;\">\n",
              "            <td style=\"padding: 0 1em 0 0.5em; text-align: right; border: none;\">\n",
              "                0.0025\n",
              "                \n",
              "                    &plusmn; 0.0025\n",
              "                \n",
              "            </td>\n",
              "            <td style=\"padding: 0 0.5em 0 0.5em; text-align: left; border: none;\">\n",
              "                청년층\n",
              "            </td>\n",
              "        </tr>\n",
              "    \n",
              "        <tr style=\"background-color: hsl(0, 100.00%, 99.08%); border: none;\">\n",
              "            <td style=\"padding: 0 1em 0 0.5em; text-align: right; border: none;\">\n",
              "                -0.0041\n",
              "                \n",
              "                    &plusmn; 0.0118\n",
              "                \n",
              "            </td>\n",
              "            <td style=\"padding: 0 0.5em 0 0.5em; text-align: left; border: none;\">\n",
              "                생활쓰레기주민부담률\n",
              "            </td>\n",
              "        </tr>\n",
              "    \n",
              "        <tr style=\"background-color: hsl(0, 100.00%, 98.71%); border: none;\">\n",
              "            <td style=\"padding: 0 1em 0 0.5em; text-align: right; border: none;\">\n",
              "                -0.0067\n",
              "                \n",
              "                    &plusmn; 0.0205\n",
              "                \n",
              "            </td>\n",
              "            <td style=\"padding: 0 0.5em 0 0.5em; text-align: left; border: none;\">\n",
              "                재활용/발생량\n",
              "            </td>\n",
              "        </tr>\n",
              "    \n",
              "        <tr style=\"background-color: hsl(0, 100.00%, 98.50%); border: none;\">\n",
              "            <td style=\"padding: 0 1em 0 0.5em; text-align: right; border: none;\">\n",
              "                -0.0083\n",
              "                \n",
              "                    &plusmn; 0.0161\n",
              "                \n",
              "            </td>\n",
              "            <td style=\"padding: 0 0.5em 0 0.5em; text-align: left; border: none;\">\n",
              "                중장년층\n",
              "            </td>\n",
              "        </tr>\n",
              "    \n",
              "    \n",
              "    </tbody>\n",
              "</table>\n",
              "    \n",
              "\n",
              "    \n",
              "\n",
              "\n",
              "    \n",
              "\n",
              "    \n",
              "\n",
              "    \n",
              "\n",
              "    \n",
              "\n",
              "    \n",
              "\n",
              "    \n",
              "\n",
              "\n",
              "\n"
            ]
          },
          "metadata": {},
          "execution_count": 122
        }
      ]
    },
    {
      "cell_type": "markdown",
      "source": [],
      "metadata": {
        "id": "a5iAUs9qF3mQ"
      }
    },
    {
      "cell_type": "code",
      "source": [
        "pip install eli5"
      ],
      "metadata": {
        "id": "MuvNR6kDPIPx"
      },
      "execution_count": null,
      "outputs": []
    },
    {
      "cell_type": "code",
      "source": [
        "import eli5\n",
        "from eli5.sklearn import PermutationImportance\n",
        "from sklearn import metrics\n",
        "perm = PermutationImportance('모델이름', random_state = 1).fit(x_test, y_test)\n",
        "eli5.show_weights(perm, feature_names = x_test.columns.tolist())\n",
        "# feature_importance 0~1 사이로 나와야 함."
      ],
      "metadata": {
        "id": "SbXjLGoKR8Qq"
      },
      "execution_count": null,
      "outputs": []
    }
  ]
}